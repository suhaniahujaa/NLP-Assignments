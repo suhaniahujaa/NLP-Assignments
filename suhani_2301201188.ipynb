{
  "nbformat": 4,
  "nbformat_minor": 0,
  "metadata": {
    "colab": {
      "provenance": [],
      "authorship_tag": "ABX9TyOfVoCG4HR5+cjNswHSmiJ1",
      "include_colab_link": true
    },
    "kernelspec": {
      "name": "python3",
      "display_name": "Python 3"
    },
    "language_info": {
      "name": "python"
    }
  },
  "cells": [
    {
      "cell_type": "markdown",
      "metadata": {
        "id": "view-in-github",
        "colab_type": "text"
      },
      "source": [
        "<a href=\"https://colab.research.google.com/github/suhaniahujaa/NLP-Assignments/blob/main/suhani_2301201188.ipynb\" target=\"_parent\"><img src=\"https://colab.research.google.com/assets/colab-badge.svg\" alt=\"Open In Colab\"/></a>"
      ]
    },
    {
      "cell_type": "markdown",
      "source": [
        "Assignment 1: Character-Level NLP\n",
        "**bold text**"
      ],
      "metadata": {
        "id": "AYcDCSHQAliB"
      }
    },
    {
      "cell_type": "code",
      "source": [
        "from collections import Counter\n",
        "import matplotlib.pyplot as plt\n",
        "import string\n",
        "\n",
        "# 1. Input paragraph\n",
        "text = \"The quick brown fox jumps over the lazy dog. This is a classic pangram, often used to display fonts and test typewriters. NLP, a field of AI, helps machines understand human language. It is a very interesting field. Did you know that 123 is a number? Let's analyze this text.\"\n",
        "\n",
        "# 2. Tokenize into characters, remove punctuation and digits\n",
        "#    and count frequency\n",
        "chars = [c.lower() for c in text if c.isalpha()]\n",
        "freq = Counter(chars)\n",
        "\n",
        "# 3. Print the top 10 most common characters\n",
        "print(\"Top 10 most common characters:\", freq.most_common(10))\n",
        "\n",
        "# 4. Plot a bar chart\n",
        "top_10 = freq.most_common(10)\n",
        "characters = [c for c, _ in top_10]\n",
        "counts = [count for _, count in top_10]\n",
        "\n",
        "plt.figure(figsize=(10, 6))\n",
        "plt.bar(characters, counts, color='skyblue')\n",
        "plt.title('Top 10 Most Frequent Characters')\n",
        "plt.xlabel('Characters')\n",
        "plt.ylabel('Frequency')\n",
        "plt.show()"
      ],
      "metadata": {
        "colab": {
          "base_uri": "https://localhost:8080/",
          "height": 581
        },
        "id": "-IYerg9VArQe",
        "outputId": "e2a81038-5162-499f-dd9e-56701c6718d7"
      },
      "execution_count": 8,
      "outputs": [
        {
          "output_type": "stream",
          "name": "stdout",
          "text": [
            "Top 10 most common characters: [('e', 21), ('t', 20), ('a', 19), ('s', 18), ('i', 17), ('n', 16), ('o', 10), ('l', 10), ('d', 10), ('r', 9)]\n"
          ]
        },
        {
          "output_type": "display_data",
          "data": {
            "text/plain": [
              "<Figure size 1000x600 with 1 Axes>"
            ],
            "image/png": "[encoded data removed]"
          },
          "metadata": {}
        }
      ]
    },
    {
      "cell_type": "markdown",
      "source": [
        "Assignment 2: News Classification with TF-IDF + SVM"
      ],
      "metadata": {
        "id": "_Imk84t3Au2g"
      }
    },
    {
      "cell_type": "code",
      "source": [
        "# The following code demonstrates a news classification task using TF-IDF and an SVM classifier.\n",
        "# It uses the scikit-learn library, a popular machine learning library in Python.\n",
        "\n",
        "import pandas as pd\n",
        "from sklearn.model_selection import train_test_split\n",
        "from sklearn.feature_extraction.text import TfidfVectorizer\n",
        "from sklearn.svm import SVC\n",
        "from sklearn.metrics import accuracy_score, classification_report, confusion_matrix\n",
        "import matplotlib.pyplot as plt\n",
        "import seaborn as sns\n",
        "\n",
        "# 1. Load the dataset (using a small, built-in example for simplicity)\n",
        "# For a \"fake vs real news\" dataset, you would load your own CSV file.\n",
        "# Example: df = pd.read_csv('fake_real_news.csv')\n",
        "# Here, we create a small, artificial dataset for demonstration purposes.\n",
        "data = {\n",
        "    'text': [\n",
        "        \"President signs new trade deal, boosting economy.\",\n",
        "        \"Breaking news: new vaccine shows 90% effectiveness.\",\n",
        "        \"Local man wins lottery after buying ticket at corner store.\",\n",
        "        \"Alleged UFO sighting in rural Kansas sparks debate.\",\n",
        "        \"Social media rumors about celebrity breakup are false.\",\n",
        "        \"Major company announces record profits for the quarter.\"\n",
        "    ],\n",
        "    'label': [\n",
        "        'real', 'real', 'real', 'fake', 'fake', 'real'\n",
        "    ]\n",
        "}\n",
        "df = pd.DataFrame(data)\n",
        "\n",
        "# 2. Preprocess text (a basic example)\n",
        "# In a real-world scenario, you'd add more steps like:\n",
        "# - Lowercasing text\n",
        "# - Removing punctuation and stop words\n",
        "# - Stemming or lemmatization\n",
        "# For this example, we'll keep it simple as TF-IDF handles some of this.\n",
        "\n",
        "# 3. Split data into training and testing sets\n",
        "X_train, X_test, y_train, y_test = train_test_split(df['text'], df['label'], test_size=0.3, random_state=42)\n",
        "\n",
        "# 4. Convert text into TF-IDF vectors\n",
        "# TF-IDF stands for Term Frequency-Inverse Document Frequency.\n",
        "# It's a numerical statistic that reflects how important a word is to a document in a collection or corpus.\n",
        "tfidf_vectorizer = TfidfVectorizer()\n",
        "X_train_tfidf = tfidf_vectorizer.fit_transform(X_train)\n",
        "X_test_tfidf = tfidf_vectorizer.transform(X_test)\n",
        "\n",
        "# 5. Train a Support Vector Machine (SVM) classifier\n",
        "# SVMs are powerful classifiers that work well in high-dimensional spaces, like those created by TF-IDF.\n",
        "svm_classifier = SVC(kernel='linear') # Using a linear kernel is often effective for text classification.\n",
        "svm_classifier.fit(X_train_tfidf, y_train)\n",
        "\n",
        "# 6. Make predictions on the test set\n",
        "y_pred = svm_classifier.predict(X_test_tfidf)\n",
        "\n",
        "# 7. Print evaluation metrics\n",
        "# Accuracy, confusion matrix, and classification report.\n",
        "print(\"--- Results ---\")\n",
        "print(f\"Accuracy: {accuracy_score(y_test, y_pred):.2f}\\n\")\n",
        "print(\"Classification Report:\")\n",
        "print(classification_report(y_test, y_pred))\n",
        "print(\"Confusion Matrix:\\n\")\n",
        "cm = confusion_matrix(y_test, y_pred)\n",
        "\n",
        "# 8. Visualize the confusion matrix for better understanding\n",
        "plt.figure(figsize=(8, 6))\n",
        "sns.heatmap(cm, annot=True, fmt='d', cmap='Blues', xticklabels=['real', 'fake'], yticklabels=['real', 'fake'])\n",
        "plt.xlabel('Predicted')\n",
        "plt.ylabel('Actual')\n",
        "plt.title('Confusion Matrix')\n",
        "plt.show()"
      ],
      "metadata": {
        "colab": {
          "base_uri": "https://localhost:8080/",
          "height": 862
        },
        "id": "JXAmRVWPA0ZR",
        "outputId": "b35d8ab3-d098-47d0-893d-df2e1ddf8c16"
      },
      "execution_count": 9,
      "outputs": [
        {
          "output_type": "stream",
          "name": "stdout",
          "text": [
            "--- Results ---\n",
            "Accuracy: 1.00\n",
            "\n",
            "Classification Report:\n",
            "              precision    recall  f1-score   support\n",
            "\n",
            "        real       1.00      1.00      1.00         2\n",
            "\n",
            "    accuracy                           1.00         2\n",
            "   macro avg       1.00      1.00      1.00         2\n",
            "weighted avg       1.00      1.00      1.00         2\n",
            "\n",
            "Confusion Matrix:\n",
            "\n"
          ]
        },
        {
          "output_type": "stream",
          "name": "stderr",
          "text": [
            "/usr/local/lib/python3.12/dist-packages/sklearn/metrics/_classification.py:407: UserWarning: A single label was found in 'y_true' and 'y_pred'. For the confusion matrix to have the correct shape, use the 'labels' parameter to pass all known labels.\n",
            "  warnings.warn(\n"
          ]
        },
        {
          "output_type": "display_data",
          "data": {
            "text/plain": [
              "<Figure size 800x600 with 2 Axes>"
            ],
            "image/png": "[encoded data removed]"
          },
          "metadata": {}
        }
      ]
    },
    {
      "cell_type": "markdown",
      "source": [
        "Assignment 3: Text Generation with Markov Chains\n"
      ],
      "metadata": {
        "id": "8jplQ9v7A_xY"
      }
    },
    {
      "cell_type": "code",
      "source": [
        "import random\n",
        "import re\n",
        "from collections import defaultdict\n",
        "\n",
        "def preprocess_text(file_path):\n",
        "    \"\"\"Reads a text file and preprocesses it into a list of sentences.\"\"\"\n",
        "    with open(file_path, 'r', encoding='utf-8') as f:\n",
        "        text = f.read()\n",
        "\n",
        "    # Simple preprocessing to split by sentence-ending punctuation\n",
        "    text = re.sub(r'([.!?])', r'\\1 ___SENTENCE_END___', text)\n",
        "    sentences = text.split('___SENTENCE_END___')\n",
        "\n",
        "    # Clean up each sentence and add start/end tokens\n",
        "    processed_sentences = []\n",
        "    for s in sentences:\n",
        "        s = s.strip()\n",
        "        if s:\n",
        "            words = re.findall(r'\\b\\w+\\b', s.lower())\n",
        "            if words:\n",
        "                processed_sentences.append(['___START___'] + words + ['___END___'])\n",
        "    return processed_sentences\n",
        "\n",
        "def build_bigram_model(sentences):\n",
        "    \"\"\"Builds a bigram language model (Markov chain) from a list of sentences.\"\"\"\n",
        "    model = defaultdict(list)\n",
        "    for sentence in sentences:\n",
        "        for i in range(len(sentence) - 1):\n",
        "            current_word = sentence[i]\n",
        "            next_word = sentence[i+1]\n",
        "            model[current_word].append(next_word)\n",
        "    return model\n",
        "\n",
        "def generate_sentence(model, max_length=50):\n",
        "    \"\"\"Generates a single sentence using the bigram model.\"\"\"\n",
        "    sentence = []\n",
        "    current_word = '___START___'\n",
        "\n",
        "    while True:\n",
        "        # Stop if max length is reached to prevent infinite loops\n",
        "        if len(sentence) >= max_length:\n",
        "            break\n",
        "\n",
        "        # Check if the current word has any follow-up words in the model\n",
        "        if current_word in model:\n",
        "            next_word = random.choice(model[current_word])\n",
        "            if next_word == '___END___':\n",
        "                break\n",
        "            sentence.append(next_word)\n",
        "            current_word = next_word\n",
        "        else:\n",
        "            # Handle cases where a word has no successors\n",
        "            break\n",
        "\n",
        "    return ' '.join(sentence).capitalize() + '.'\n",
        "\n",
        "def main():\n",
        "    # Placeholder: Create a dummy story.txt file for demonstration\n",
        "    with open('story.txt', 'w') as f:\n",
        "        f.write(\"The quick brown fox jumps over the lazy dog. A cat sat on the mat. \"\n",
        "                \"The dog is very sleepy. A quick fox jumps. The mat is small.\")\n",
        "\n",
        "    # 1. Preprocess and build the model\n",
        "    original_sentences = preprocess_text('story.txt')\n",
        "    bigram_model = build_bigram_model(original_sentences)\n",
        "\n",
        "    # 2. Generate 5 random sentences\n",
        "    print(\"--- Generated Sentences ---\")\n",
        "    generated_sentences = [generate_sentence(bigram_model) for _ in range(5)]\n",
        "    for i, s in enumerate(generated_sentences, 1):\n",
        "        print(f\"{i}. {s}\")\n",
        "\n",
        "    # 3. Compare sentence length distribution\n",
        "    print(\"\\n--- Length Comparison ---\")\n",
        "    original_lengths = [len(s) for s in original_sentences]\n",
        "    generated_lengths = [len(s.split()) for s in generated_sentences]\n",
        "\n",
        "    print(f\"Original Sentence Lengths (words): {original_lengths}\")\n",
        "    print(f\"Generated Sentence Lengths (words): {generated_lengths}\")\n",
        "\n",
        "    avg_original = sum(original_lengths) / len(original_lengths)\n",
        "    avg_generated = sum(generated_lengths) / len(generated_lengths)\n",
        "\n",
        "    print(f\"\\nAverage Original Length: {avg_original:.2f} words\")\n",
        "    print(f\"Average Generated Length: {avg_generated:.2f} words\")\n",
        "\n",
        "if __name__ == \"__main__\":\n",
        "    main()"
      ],
      "metadata": {
        "colab": {
          "base_uri": "https://localhost:8080/"
        },
        "id": "YFiY_mOIBDgW",
        "outputId": "9cd31b65-4a8d-4ee4-8d1a-755509c9ef6e"
      },
      "execution_count": 11,
      "outputs": [
        {
          "output_type": "stream",
          "name": "stdout",
          "text": [
            "--- Generated Sentences ---\n",
            "1. The mat is small.\n",
            "2. The lazy dog.\n",
            "3. A quick fox jumps.\n",
            "4. A quick brown fox jumps over the mat.\n",
            "5. The lazy dog is small.\n",
            "\n",
            "--- Length Comparison ---\n",
            "Original Sentence Lengths (words): [11, 8, 7, 6, 6]\n",
            "Generated Sentence Lengths (words): [4, 3, 4, 8, 5]\n",
            "\n",
            "Average Original Length: 7.60 words\n",
            "Average Generated Length: 4.80 words\n"
          ]
        }
      ]
    }
  ]
}